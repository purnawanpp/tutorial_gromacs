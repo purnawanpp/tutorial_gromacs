{
  "nbformat": 4,
  "nbformat_minor": 0,
  "metadata": {
    "colab": {
      "provenance": [],
      "authorship_tag": "ABX9TyM8pQ5ncEWHmgcZ9st5QdWx",
      "include_colab_link": true
    },
    "kernelspec": {
      "name": "python3",
      "display_name": "Python 3"
    },
    "language_info": {
      "name": "python"
    }
  },
  "cells": [
    {
      "cell_type": "markdown",
      "metadata": {
        "id": "view-in-github",
        "colab_type": "text"
      },
      "source": [
        "<a href=\"https://colab.research.google.com/github/purnawanpp/tutorial_gromacs/blob/main/RMSF.ipynb\" target=\"_parent\"><img src=\"https://colab.research.google.com/assets/colab-badge.svg\" alt=\"Open In Colab\"/></a>"
      ]
    },
    {
      "cell_type": "code",
      "execution_count": null,
      "metadata": {
        "colab": {
          "base_uri": "https://localhost:8080/"
        },
        "id": "41_-AogKncRG",
        "outputId": "6bb62bcc-a6c7-4539-a511-a9eaa2e7d514"
      },
      "outputs": [
        {
          "output_type": "stream",
          "name": "stdout",
          "text": [
            "File 'syrin_rmsf_new.xvg' telah berhasil dibuat.\n"
          ]
        }
      ],
      "source": [
        "# Baca isi file rmsf.xvg\n",
        "file_path = 'syrin_rmsf_rec.xvg'\n",
        "with open(file_path, 'r') as file:\n",
        "    lines = file.readlines()\n",
        "\n",
        "# Proses dan ubah penomoran pada kolom x dan pisahkan nilai x dan y dengan 4 spasi\n",
        "new_lines = []\n",
        "starting_number = 206\n",
        "for line in lines:\n",
        "    line = line.strip()\n",
        "    if line.startswith('@') or line.startswith('#'):\n",
        "        new_lines.append(line)\n",
        "    else:\n",
        "        parts = line.split()\n",
        "        new_number = starting_number + int(parts[0]) - 1\n",
        "        new_line = f\"{new_number:6d}    {parts[1]}\"\n",
        "        new_lines.append(new_line)\n",
        "\n",
        "# Gabungkan kembali semua baris menjadi teks baru\n",
        "new_content = '\\n'.join(new_lines)\n",
        "\n",
        "# Simpan hasil ke file baru\n",
        "new_file_path = 'syrin_rmsf_new.xvg'\n",
        "with open(new_file_path, 'w') as new_file:\n",
        "    new_file.write(new_content)\n",
        "\n",
        "print(f\"File '{new_file_path}' telah berhasil dibuat.\")\n"
      ]
    },
    {
      "cell_type": "code",
      "source": [
        "# Baca isi file rmsf_new.xvg\n",
        "new_file_path = 'pino_rmsf_new.xvg'\n",
        "with open(new_file_path, 'r') as new_file:\n",
        "    new_lines = new_file.readlines()\n",
        "\n",
        "# Inisialisasi variabel untuk menyimpan nilai tertinggi dan nilai x yang sesuai\n",
        "max_y_values = []  # List untuk menyimpan maksimal 5 nilai tertinggi\n",
        "x_values_for_max_y = []  # List untuk menyimpan nilai x yang sesuai untuk setiap nilai tertinggi\n",
        "\n",
        "# Proses setiap baris dan cari nilai tertinggi beserta nilai x yang sesuai\n",
        "for line in new_lines:\n",
        "    if not line.startswith('@') and not line.startswith('#'):\n",
        "        parts = line.split()\n",
        "        x = int(parts[0])\n",
        "        y = float(parts[1])\n",
        "\n",
        "        # Jika nilai y lebih tinggi dari salah satu nilai tertinggi sebelumnya\n",
        "        # masukkan nilainya dan nilai x yang sesuai ke dalam list\n",
        "        if len(max_y_values) < 5 or y > min(max_y_values):\n",
        "            if len(max_y_values) == 5:\n",
        "                min_index = max_y_values.index(min(max_y_values))\n",
        "                max_y_values[min_index] = y\n",
        "                x_values_for_max_y[min_index] = x\n",
        "            else:\n",
        "                max_y_values.append(y)\n",
        "                x_values_for_max_y.append(x)\n",
        "\n",
        "# Cetak hasil analisis\n",
        "print(\"5 Nilai y Tertinggi dan Nilai x yang Sesuai:\")\n",
        "for i in range(len(max_y_values)):\n",
        "    print(f\"Nilai y: {max_y_values[i]}, Nilai x: {x_values_for_max_y[i]}\")\n"
      ],
      "metadata": {
        "colab": {
          "base_uri": "https://localhost:8080/"
        },
        "id": "HqtaBXJUvH4n",
        "outputId": "897165b6-ac1e-4a4e-c2ea-5e7bf2d6ef14"
      },
      "execution_count": 6,
      "outputs": [
        {
          "output_type": "stream",
          "name": "stdout",
          "text": [
            "5 Nilai y Tertinggi dan Nilai x yang Sesuai:\n",
            "Nilai y: 0.261, Nilai x: 206\n",
            "Nilai y: 0.2581, Nilai x: 265\n",
            "Nilai y: 0.2117, Nilai x: 243\n",
            "Nilai y: 0.2916, Nilai x: 267\n",
            "Nilai y: 0.2519, Nilai x: 266\n"
          ]
        }
      ]
    },
    {
      "cell_type": "code",
      "source": [
        "# Baca isi file rmsf_new.xvg\n",
        "new_file_path = 'plu_rmsf_new.xvg'\n",
        "with open(new_file_path, 'r') as new_file:\n",
        "    new_lines = new_file.readlines()\n",
        "\n",
        "# Inisialisasi variabel untuk menyimpan nilai tertinggi dan nilai x yang sesuai\n",
        "max_y_values = []  # List untuk menyimpan maksimal 5 nilai tertinggi\n",
        "x_values_for_max_y = []  # List untuk menyimpan nilai x yang sesuai untuk setiap nilai tertinggi\n",
        "\n",
        "# Proses setiap baris dan cari nilai tertinggi beserta nilai x yang sesuai\n",
        "for line in new_lines:\n",
        "    if not line.startswith('@') and not line.startswith('#'):\n",
        "        parts = line.split()\n",
        "        x = int(parts[0])\n",
        "        y = float(parts[1])\n",
        "\n",
        "        # Jika nilai y lebih tinggi dari salah satu nilai tertinggi sebelumnya\n",
        "        # masukkan nilainya dan nilai x yang sesuai ke dalam list\n",
        "        if len(max_y_values) < 5 or y > min(max_y_values):\n",
        "            if len(max_y_values) == 5:\n",
        "                min_index = max_y_values.index(min(max_y_values))\n",
        "                max_y_values[min_index] = y\n",
        "                x_values_for_max_y[min_index] = x\n",
        "            else:\n",
        "                max_y_values.append(y)\n",
        "                x_values_for_max_y.append(x)\n",
        "\n",
        "# Cetak hasil analisis\n",
        "print(\"5 Nilai y Tertinggi dan Nilai x yang Sesuai:\")\n",
        "for i in range(len(max_y_values)):\n",
        "    print(f\"Nilai y: {max_y_values[i]}, Nilai x: {x_values_for_max_y[i]}\")\n"
      ],
      "metadata": {
        "colab": {
          "base_uri": "https://localhost:8080/"
        },
        "id": "xMp1rY1owBVd",
        "outputId": "6e8370ae-50ef-4cca-8dbe-fa24e8a9860a"
      },
      "execution_count": 7,
      "outputs": [
        {
          "output_type": "stream",
          "name": "stdout",
          "text": [
            "5 Nilai y Tertinggi dan Nilai x yang Sesuai:\n",
            "Nilai y: 0.3898, Nilai x: 206\n",
            "Nilai y: 0.2391, Nilai x: 265\n",
            "Nilai y: 0.2422, Nilai x: 269\n",
            "Nilai y: 0.2393, Nilai x: 268\n",
            "Nilai y: 0.2446, Nilai x: 267\n"
          ]
        }
      ]
    },
    {
      "cell_type": "code",
      "source": [
        "# Baca isi file rmsf_new.xvg\n",
        "new_file_path = '/content/syrin_rmsf_new.xvg'\n",
        "with open(new_file_path, 'r') as new_file:\n",
        "    new_lines = new_file.readlines()\n",
        "\n",
        "# Inisialisasi variabel untuk menyimpan nilai tertinggi dan nilai x yang sesuai\n",
        "max_y_values = []  # List untuk menyimpan maksimal 5 nilai tertinggi\n",
        "x_values_for_max_y = []  # List untuk menyimpan nilai x yang sesuai untuk setiap nilai tertinggi\n",
        "\n",
        "# Proses setiap baris dan cari nilai tertinggi beserta nilai x yang sesuai\n",
        "for line in new_lines:\n",
        "    if not line.startswith('@') and not line.startswith('#'):\n",
        "        parts = line.split()\n",
        "        x = int(parts[0])\n",
        "        y = float(parts[1])\n",
        "\n",
        "        # Jika nilai y lebih tinggi dari salah satu nilai tertinggi sebelumnya\n",
        "        # masukkan nilainya dan nilai x yang sesuai ke dalam list\n",
        "        if len(max_y_values) < 5 or y > min(max_y_values):\n",
        "            if len(max_y_values) == 5:\n",
        "                min_index = max_y_values.index(min(max_y_values))\n",
        "                max_y_values[min_index] = y\n",
        "                x_values_for_max_y[min_index] = x\n",
        "            else:\n",
        "                max_y_values.append(y)\n",
        "                x_values_for_max_y.append(x)\n",
        "\n",
        "# Cetak hasil analisis\n",
        "print(\"5 Nilai y Tertinggi dan Nilai x yang Sesuai:\")\n",
        "for i in range(len(max_y_values)):\n",
        "    print(f\"Nilai y: {max_y_values[i]}, Nilai x: {x_values_for_max_y[i]}\")\n"
      ],
      "metadata": {
        "colab": {
          "base_uri": "https://localhost:8080/"
        },
        "id": "LfhBpEdpwIX0",
        "outputId": "d6cc7def-ffba-422a-bf4b-3e7b2bc256fd"
      },
      "execution_count": 8,
      "outputs": [
        {
          "output_type": "stream",
          "name": "stdout",
          "text": [
            "5 Nilai y Tertinggi dan Nilai x yang Sesuai:\n",
            "Nilai y: 0.3558, Nilai x: 476\n",
            "Nilai y: 0.5185, Nilai x: 477\n",
            "Nilai y: 0.341, Nilai x: 427\n",
            "Nilai y: 0.3439, Nilai x: 267\n",
            "Nilai y: 0.3343, Nilai x: 426\n"
          ]
        }
      ]
    }
  ]
}