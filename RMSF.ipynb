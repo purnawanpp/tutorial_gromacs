{
  "nbformat": 4,
  "nbformat_minor": 0,
  "metadata": {
    "colab": {
      "provenance": [],
      "authorship_tag": "ABX9TyNou2kJOluFjf3Ki1yksYLH",
      "include_colab_link": true
    },
    "kernelspec": {
      "name": "python3",
      "display_name": "Python 3"
    },
    "language_info": {
      "name": "python"
    }
  },
  "cells": [
    {
      "cell_type": "markdown",
      "metadata": {
        "id": "view-in-github",
        "colab_type": "text"
      },
      "source": [
        "<a href=\"https://colab.research.google.com/github/purnawanpp/tutorial_gromacs/blob/main/RMSF.ipynb\" target=\"_parent\"><img src=\"https://colab.research.google.com/assets/colab-badge.svg\" alt=\"Open In Colab\"/></a>"
      ]
    },
    {
      "cell_type": "code",
      "execution_count": 3,
      "metadata": {
        "colab": {
          "base_uri": "https://localhost:8080/"
        },
        "id": "41_-AogKncRG",
        "outputId": "33831c78-09de-4445-9946-c8d106c9761b"
      },
      "outputs": [
        {
          "output_type": "stream",
          "name": "stdout",
          "text": [
            "File 'rmsf_new.xvg' telah berhasil dibuat.\n"
          ]
        }
      ],
      "source": [
        "# Baca isi file rmsf.xvg\n",
        "file_path = 'pino_rmsf_rec.xvg'\n",
        "with open(file_path, 'r') as file:\n",
        "    lines = file.readlines()\n",
        "\n",
        "# Proses dan ubah penomoran pada kolom x dan pisahkan nilai x dan y dengan 4 spasi\n",
        "new_lines = []\n",
        "starting_number = 206\n",
        "for line in lines:\n",
        "    line = line.strip()\n",
        "    if line.startswith('@') or line.startswith('#'):\n",
        "        new_lines.append(line)\n",
        "    else:\n",
        "        parts = line.split()\n",
        "        new_number = starting_number + int(parts[0]) - 1\n",
        "        new_line = f\"{new_number:6d}    {parts[1]}\"\n",
        "        new_lines.append(new_line)\n",
        "\n",
        "# Gabungkan kembali semua baris menjadi teks baru\n",
        "new_content = '\\n'.join(new_lines)\n",
        "\n",
        "# Simpan hasil ke file baru\n",
        "new_file_path = 'rmsf_new.xvg'\n",
        "with open(new_file_path, 'w') as new_file:\n",
        "    new_file.write(new_content)\n",
        "\n",
        "print(f\"File '{new_file_path}' telah berhasil dibuat.\")\n"
      ]
    }
  ]
}