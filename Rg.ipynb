{
  "nbformat": 4,
  "nbformat_minor": 0,
  "metadata": {
    "colab": {
      "provenance": []
    },
    "kernelspec": {
      "name": "python3",
      "display_name": "Python 3"
    },
    "language_info": {
      "name": "python"
    }
  },
  "cells": [
    {
      "cell_type": "markdown",
      "source": [
        "**Change Radius of gyration from ps become ns**"
      ],
      "metadata": {
        "id": "WbRlYlPk8ZXr"
      }
    },
    {
      "cell_type": "code",
      "execution_count": 9,
      "metadata": {
        "colab": {
          "base_uri": "https://localhost:8080/",
          "height": 35
        },
        "id": "IlPEmr6Q6vke",
        "outputId": "2afbb30e-16c2-4296-bb75-5c7dd05ad207"
      },
      "outputs": [
        {
          "output_type": "display_data",
          "data": {
            "text/plain": [
              "<IPython.core.display.Javascript object>"
            ],
            "application/javascript": [
              "\n",
              "    async function download(id, filename, size) {\n",
              "      if (!google.colab.kernel.accessAllowed) {\n",
              "        return;\n",
              "      }\n",
              "      const div = document.createElement('div');\n",
              "      const label = document.createElement('label');\n",
              "      label.textContent = `Downloading \"${filename}\": `;\n",
              "      div.appendChild(label);\n",
              "      const progress = document.createElement('progress');\n",
              "      progress.max = size;\n",
              "      div.appendChild(progress);\n",
              "      document.body.appendChild(div);\n",
              "\n",
              "      const buffers = [];\n",
              "      let downloaded = 0;\n",
              "\n",
              "      const channel = await google.colab.kernel.comms.open(id);\n",
              "      // Send a message to notify the kernel that we're ready.\n",
              "      channel.send({})\n",
              "\n",
              "      for await (const message of channel.messages) {\n",
              "        // Send a message to notify the kernel that we're ready.\n",
              "        channel.send({})\n",
              "        if (message.buffers) {\n",
              "          for (const buffer of message.buffers) {\n",
              "            buffers.push(buffer);\n",
              "            downloaded += buffer.byteLength;\n",
              "            progress.value = downloaded;\n",
              "          }\n",
              "        }\n",
              "      }\n",
              "      const blob = new Blob(buffers, {type: 'application/binary'});\n",
              "      const a = document.createElement('a');\n",
              "      a.href = window.URL.createObjectURL(blob);\n",
              "      a.download = filename;\n",
              "      div.appendChild(a);\n",
              "      a.click();\n",
              "      div.remove();\n",
              "    }\n",
              "  "
            ]
          },
          "metadata": {}
        },
        {
          "output_type": "display_data",
          "data": {
            "text/plain": [
              "<IPython.core.display.Javascript object>"
            ],
            "application/javascript": [
              "download(\"download_5b65d54a-6942-458e-b425-22165fac2678\", \"modified_gyration.xvg\", 41773)"
            ]
          },
          "metadata": {}
        },
        {
          "output_type": "stream",
          "name": "stdout",
          "text": [
            "File telah dimodifikasi dan disimpan sebagai /content/modified_gyration.xvg\n"
          ]
        }
      ],
      "source": [
        "# Importing required libraries\n",
        "import os\n",
        "\n",
        "# Nama file yang ada di direktori Colab (pastikan file sudah ada di direktori /content/)\n",
        "file_path = '/content/gyration.xvg'\n",
        "\n",
        "# Memastikan file ada di direktori /content/\n",
        "if os.path.exists(file_path):\n",
        "    # Membaca konten dari file\n",
        "    with open(file_path, 'r') as file:\n",
        "        lines = file.readlines()\n",
        "\n",
        "    # Membuat list baru untuk menyimpan baris yang sudah dimodifikasi\n",
        "    modified_lines = []\n",
        "\n",
        "    # Memodifikasi kolom pertama dengan membagi nilainya dengan 1000\n",
        "    for line in lines:\n",
        "        # Membagi setiap baris berdasarkan spasi dan filter value yang kosong\n",
        "        columns = line.split()\n",
        "\n",
        "        # Periksa apakah baris adalah komentar (dimulai dengan # atau @)\n",
        "        if len(columns) > 0 and not (columns[0].startswith('#') or columns[0].startswith('@')):\n",
        "            try:\n",
        "                # Memodifikasi kolom pertama (waktu) dengan membaginya dengan 1000\n",
        "                columns[0] = str(float(columns[0]) / 1000)\n",
        "                # Menggabungkan kembali kolom menjadi satu baris\n",
        "                modified_line = ' '.join(columns) + '\\n'\n",
        "                modified_lines.append(modified_line)\n",
        "            except ValueError:\n",
        "                print(f\"Skipped a non-numeric line: {line.strip()}\")\n",
        "        else:\n",
        "            # Jika ini adalah baris komentar, tambahkan langsung ke hasil modifikasi tanpa perubahan\n",
        "            modified_lines.append(line)\n",
        "\n",
        "    # Menyimpan hasil modifikasi ke file baru\n",
        "    output_file_name = '/content/modified_gyration.xvg'\n",
        "    with open(output_file_name, 'w') as output_file:\n",
        "        output_file.writelines(modified_lines)\n",
        "\n",
        "    # Mengunduh file yang sudah dimodifikasi\n",
        "    from google.colab import files\n",
        "    files.download(output_file_name)\n",
        "    print(f\"File telah dimodifikasi dan disimpan sebagai {output_file_name}\")\n",
        "\n",
        "else:\n",
        "    print(\"File tidak ditemukan di direktori /content/.\")\n"
      ]
    }
  ]
}